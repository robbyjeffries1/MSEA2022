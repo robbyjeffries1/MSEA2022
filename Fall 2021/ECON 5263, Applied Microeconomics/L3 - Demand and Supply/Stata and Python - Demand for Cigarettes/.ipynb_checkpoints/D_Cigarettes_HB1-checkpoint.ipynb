{
 "cells": [
  {
   "cell_type": "markdown",
   "metadata": {},
   "source": [
    "## <font color = blue> Demand for Cigarettes <font>\n",
    "### <font color = blue> Heiss and Brunner--Wooldridge Example 8.7 <font>"
   ]
  },
  {
   "cell_type": "code",
   "execution_count": 1,
   "metadata": {},
   "outputs": [],
   "source": [
    "# Load libraries\n",
    "\n",
    "import wooldridge  # If necessary, first install:  pip install wooldridge\n",
    "import numpy as np\n",
    "import pandas as pd\n",
    "import statsmodels.api as sm\n",
    "import statsmodels.formula.api as smf\n",
    "from statsmodels.compat import lzip\n",
    "import statsmodels.stats.api as sms\n",
    "from scipy import stats\n",
    "import patsy as pt\n",
    "import matplotlib.pyplot as plt\n",
    "import seaborn as sns"
   ]
  },
  {
   "cell_type": "markdown",
   "metadata": {},
   "source": [
    "## <font color = blue> Read data and examine descriptive statisitics <font>"
   ]
  },
  {
   "cell_type": "code",
   "execution_count": 2,
   "metadata": {},
   "outputs": [],
   "source": [
    "# Load data\n",
    "\n",
    "  # The data comes from Wooldridge's textbook Introductory Econometrics: A Modern Approach (7th ed)\n",
    "  # The Python package 'wooldridge' contains 111 data sets -- this exampls uses 'smoke.csv' \n",
    "\n",
    "smoke = wooldridge.data('smoke')"
   ]
  },
  {
   "cell_type": "markdown",
   "metadata": {},
   "source": [
    "'smoke' contains 807 observations on 10 variables:\n",
    "\n",
    "cigs: cigs. smoked per day\n",
    "cigpric: state cig. price,cents/pack\n",
    "lcigpric: log(cigprice)\n",
    "income: annual income\n",
    "lincome: log(income)\n",
    "educ: years of schooling\n",
    "white: = 1 if whitee: in years \n",
    "agesq: age^2\n",
    "restaurn: =1 if rest. smk. restrictions"
   ]
  },
  {
   "cell_type": "code",
   "execution_count": 3,
   "metadata": {},
   "outputs": [
    {
     "data": {
      "text/html": [
       "<div>\n",
       "<style scoped>\n",
       "    .dataframe tbody tr th:only-of-type {\n",
       "        vertical-align: middle;\n",
       "    }\n",
       "\n",
       "    .dataframe tbody tr th {\n",
       "        vertical-align: top;\n",
       "    }\n",
       "\n",
       "    .dataframe thead th {\n",
       "        text-align: right;\n",
       "    }\n",
       "</style>\n",
       "<table border=\"1\" class=\"dataframe\">\n",
       "  <thead>\n",
       "    <tr style=\"text-align: right;\">\n",
       "      <th></th>\n",
       "      <th>count</th>\n",
       "      <th>mean</th>\n",
       "      <th>std</th>\n",
       "      <th>min</th>\n",
       "      <th>25%</th>\n",
       "      <th>50%</th>\n",
       "      <th>75%</th>\n",
       "      <th>max</th>\n",
       "    </tr>\n",
       "  </thead>\n",
       "  <tbody>\n",
       "    <tr>\n",
       "      <th>educ</th>\n",
       "      <td>807.0</td>\n",
       "      <td>12.470880</td>\n",
       "      <td>3.057161</td>\n",
       "      <td>6.000000</td>\n",
       "      <td>10.000000</td>\n",
       "      <td>12.000000</td>\n",
       "      <td>13.500000</td>\n",
       "      <td>18.000000</td>\n",
       "    </tr>\n",
       "    <tr>\n",
       "      <th>cigpric</th>\n",
       "      <td>807.0</td>\n",
       "      <td>60.300411</td>\n",
       "      <td>4.738469</td>\n",
       "      <td>44.004002</td>\n",
       "      <td>58.141499</td>\n",
       "      <td>61.053001</td>\n",
       "      <td>63.179001</td>\n",
       "      <td>70.128998</td>\n",
       "    </tr>\n",
       "    <tr>\n",
       "      <th>white</th>\n",
       "      <td>807.0</td>\n",
       "      <td>0.878563</td>\n",
       "      <td>0.326837</td>\n",
       "      <td>0.000000</td>\n",
       "      <td>1.000000</td>\n",
       "      <td>1.000000</td>\n",
       "      <td>1.000000</td>\n",
       "      <td>1.000000</td>\n",
       "    </tr>\n",
       "    <tr>\n",
       "      <th>age</th>\n",
       "      <td>807.0</td>\n",
       "      <td>41.237918</td>\n",
       "      <td>17.027285</td>\n",
       "      <td>17.000000</td>\n",
       "      <td>28.000000</td>\n",
       "      <td>38.000000</td>\n",
       "      <td>54.000000</td>\n",
       "      <td>88.000000</td>\n",
       "    </tr>\n",
       "    <tr>\n",
       "      <th>income</th>\n",
       "      <td>807.0</td>\n",
       "      <td>19304.832714</td>\n",
       "      <td>9142.958290</td>\n",
       "      <td>500.000000</td>\n",
       "      <td>12500.000000</td>\n",
       "      <td>20000.000000</td>\n",
       "      <td>30000.000000</td>\n",
       "      <td>30000.000000</td>\n",
       "    </tr>\n",
       "    <tr>\n",
       "      <th>cigs</th>\n",
       "      <td>807.0</td>\n",
       "      <td>8.686493</td>\n",
       "      <td>13.721516</td>\n",
       "      <td>0.000000</td>\n",
       "      <td>0.000000</td>\n",
       "      <td>0.000000</td>\n",
       "      <td>20.000000</td>\n",
       "      <td>80.000000</td>\n",
       "    </tr>\n",
       "    <tr>\n",
       "      <th>restaurn</th>\n",
       "      <td>807.0</td>\n",
       "      <td>0.246592</td>\n",
       "      <td>0.431295</td>\n",
       "      <td>0.000000</td>\n",
       "      <td>0.000000</td>\n",
       "      <td>0.000000</td>\n",
       "      <td>0.000000</td>\n",
       "      <td>1.000000</td>\n",
       "    </tr>\n",
       "    <tr>\n",
       "      <th>lincome</th>\n",
       "      <td>807.0</td>\n",
       "      <td>9.687316</td>\n",
       "      <td>0.712696</td>\n",
       "      <td>6.214608</td>\n",
       "      <td>9.433484</td>\n",
       "      <td>9.903487</td>\n",
       "      <td>10.308952</td>\n",
       "      <td>10.308952</td>\n",
       "    </tr>\n",
       "    <tr>\n",
       "      <th>agesq</th>\n",
       "      <td>807.0</td>\n",
       "      <td>1990.135068</td>\n",
       "      <td>1577.165644</td>\n",
       "      <td>289.000000</td>\n",
       "      <td>784.000000</td>\n",
       "      <td>1444.000000</td>\n",
       "      <td>2916.000000</td>\n",
       "      <td>7744.000000</td>\n",
       "    </tr>\n",
       "    <tr>\n",
       "      <th>lcigpric</th>\n",
       "      <td>807.0</td>\n",
       "      <td>4.096032</td>\n",
       "      <td>0.082919</td>\n",
       "      <td>3.784281</td>\n",
       "      <td>4.062880</td>\n",
       "      <td>4.111742</td>\n",
       "      <td>4.145972</td>\n",
       "      <td>4.250336</td>\n",
       "    </tr>\n",
       "  </tbody>\n",
       "</table>\n",
       "</div>"
      ],
      "text/plain": [
       "          count          mean          std         min           25%  \\\n",
       "educ      807.0     12.470880     3.057161    6.000000     10.000000   \n",
       "cigpric   807.0     60.300411     4.738469   44.004002     58.141499   \n",
       "white     807.0      0.878563     0.326837    0.000000      1.000000   \n",
       "age       807.0     41.237918    17.027285   17.000000     28.000000   \n",
       "income    807.0  19304.832714  9142.958290  500.000000  12500.000000   \n",
       "cigs      807.0      8.686493    13.721516    0.000000      0.000000   \n",
       "restaurn  807.0      0.246592     0.431295    0.000000      0.000000   \n",
       "lincome   807.0      9.687316     0.712696    6.214608      9.433484   \n",
       "agesq     807.0   1990.135068  1577.165644  289.000000    784.000000   \n",
       "lcigpric  807.0      4.096032     0.082919    3.784281      4.062880   \n",
       "\n",
       "                   50%           75%           max  \n",
       "educ         12.000000     13.500000     18.000000  \n",
       "cigpric      61.053001     63.179001     70.128998  \n",
       "white         1.000000      1.000000      1.000000  \n",
       "age          38.000000     54.000000     88.000000  \n",
       "income    20000.000000  30000.000000  30000.000000  \n",
       "cigs          0.000000     20.000000     80.000000  \n",
       "restaurn      0.000000      0.000000      1.000000  \n",
       "lincome       9.903487     10.308952     10.308952  \n",
       "agesq      1444.000000   2916.000000   7744.000000  \n",
       "lcigpric      4.111742      4.145972      4.250336  "
      ]
     },
     "execution_count": 3,
     "metadata": {},
     "output_type": "execute_result"
    }
   ],
   "source": [
    "# Descriptive statistics\n",
    "\n",
    "smoke.describe().transpose()"
   ]
  },
  {
   "cell_type": "markdown",
   "metadata": {},
   "source": [
    "## <font color = blue> Heat map of correlations between variables <font>"
   ]
  },
  {
   "cell_type": "code",
   "execution_count": 4,
   "metadata": {
    "scrolled": false
   },
   "outputs": [
    {
     "data": {
      "text/plain": [
       "<AxesSubplot:>"
      ]
     },
     "execution_count": 4,
     "metadata": {},
     "output_type": "execute_result"
    },
    {
     "data": {
      "image/png": "[encoded data removed]",
      "text/plain": [
       "<Figure size 720x720 with 2 Axes>"
      ]
     },
     "metadata": {
      "needs_background": "light"
     },
     "output_type": "display_data"
    }
   ],
   "source": [
    "plt.figure(figsize=(10, 10))\n",
    "\n",
    "sns.set(font_scale = 1.4)\n",
    "\n",
    "sns.color_palette('YlOrBr', as_cmap = True)\n",
    "\n",
    "matrix = np.triu(smoke.corr(), k = 1)  # 'k = 1' retains the main diagonal\n",
    "\n",
    "sns.heatmap(smoke.corr(), mask = matrix, annot = True, fmt = '.2g',\n",
    "            cbar_kws = {'shrink': .6, 'ticks' : [-1, -.5, 0, 0.5, 1]},\n",
    "            vmin = -1, vmax = 1, center = 0, cmap= 'YlOrBr',\n",
    "            linewidth = 1.5, linecolor = 'white', square = True,\n",
    "            annot_kws = {'size': 12})"
   ]
  },
  {
   "cell_type": "markdown",
   "metadata": {},
   "source": [
    "## <font color = blue> Compare mean cigarette consumption without and with restaurant restrictions <font>"
   ]
  },
  {
   "cell_type": "code",
   "execution_count": 5,
   "metadata": {},
   "outputs": [
    {
     "data": {
      "text/html": [
       "<div>\n",
       "<style scoped>\n",
       "    .dataframe tbody tr th:only-of-type {\n",
       "        vertical-align: middle;\n",
       "    }\n",
       "\n",
       "    .dataframe tbody tr th {\n",
       "        vertical-align: top;\n",
       "    }\n",
       "\n",
       "    .dataframe thead th {\n",
       "        text-align: right;\n",
       "    }\n",
       "</style>\n",
       "<table border=\"1\" class=\"dataframe\">\n",
       "  <thead>\n",
       "    <tr style=\"text-align: right;\">\n",
       "      <th></th>\n",
       "      <th>restaurn</th>\n",
       "      <th>cigs</th>\n",
       "    </tr>\n",
       "  </thead>\n",
       "  <tbody>\n",
       "    <tr>\n",
       "      <th>0</th>\n",
       "      <td>0</td>\n",
       "      <td>9.370066</td>\n",
       "    </tr>\n",
       "    <tr>\n",
       "      <th>1</th>\n",
       "      <td>1</td>\n",
       "      <td>6.597990</td>\n",
       "    </tr>\n",
       "  </tbody>\n",
       "</table>\n",
       "</div>"
      ],
      "text/plain": [
       "   restaurn      cigs\n",
       "0         0  9.370066\n",
       "1         1  6.597990"
      ]
     },
     "execution_count": 5,
     "metadata": {},
     "output_type": "execute_result"
    }
   ],
   "source": [
    "# First display the mean of 'cigs' for each value of 'restaurn'\n",
    "\n",
    "smoke.groupby('restaurn', as_index = False)['cigs'].mean()  # 'as.index = False' tells Python not to reset the index"
   ]
  },
  {
   "cell_type": "code",
   "execution_count": 6,
   "metadata": {},
   "outputs": [
    {
     "data": {
      "image/png": "[encoded data removed]",
      "text/plain": [
       "<Figure size 432x360 with 1 Axes>"
      ]
     },
     "metadata": {},
     "output_type": "display_data"
    }
   ],
   "source": [
    "# Plot the mean of 'cigs' by 'restaurn' (just add 'plot.bar()' [and options] to the above)\n",
    "\n",
    "plt.figure(figsize=(6, 5))\n",
    "\n",
    "sns.set_style('white')\n",
    "\n",
    "smoke.groupby('restaurn')['cigs'].mean().plot.bar(color = 'dodgerblue', edgecolor = 'blue', width = 0.4)\n",
    "\n",
    "plt.xlabel('\\nRestaurant Restriction:  0 = No, 1 = Yes', fontsize = 18)\n",
    "plt.ylabel('Mean Number of Cigarettes\\n', fontsize = 18)\n",
    "plt.title('\\nEffect of Restrictions on the Demand for Cigarettes\\n', fontsize = 18)\n",
    "\n",
    "plt.xticks(fontsize = 16)\n",
    "plt.yticks(fontsize = 16)\n",
    "\n",
    "plt.axhline(y = 8.686493, color = 'r', linestyle = '--')  # horizontal line at sample mean of 'cigs'\n",
    "plt.text(x = 0.65, y = 7.7, s = 'Overall Mean \\nCigarette Consumption', color = 'red', fontsize = 12)\n",
    "\n",
    "plt.show()"
   ]
  },
  {
   "cell_type": "code",
   "execution_count": 7,
   "metadata": {},
   "outputs": [
    {
     "data": {
      "text/plain": [
       "<AxesSubplot:xlabel='restaurn', ylabel='cigs'>"
      ]
     },
     "execution_count": 7,
     "metadata": {},
     "output_type": "execute_result"
    },
    {
     "data": {
      "image/png": "[encoded data removed]",
      "text/plain": [
       "<Figure size 432x288 with 1 Axes>"
      ]
     },
     "metadata": {},
     "output_type": "display_data"
    }
   ],
   "source": [
    "# Alternative way to plot the mean of 'cigs' by 'restaurn'\n",
    "\n",
    "sns.barplot(x = 'restaurn', y = 'cigs', data = smoke, ci = False)"
   ]
  },
  {
   "cell_type": "code",
   "execution_count": 8,
   "metadata": {},
   "outputs": [
    {
     "name": "stdout",
     "output_type": "stream",
     "text": [
      "\n",
      "Warning: the two group variance are not equal. Rerun the test with evar=False\n",
      "\n",
      "\n",
      "Two sample t-test with unequal variance (Welch's t-test)\n",
      "\n",
      "------------------  ------------\n",
      "Mean diff             2.77208\n",
      "t                     2.7161\n",
      "Std Error             1.02061\n",
      "df                  398.48\n",
      "P-value (one-tail)    0.00344663\n",
      "P-value (two-tail)    0.00689325\n",
      "Lower 95.0%           0.765623\n",
      "Upper 95.0%           4.77853\n",
      "------------------  ------------\n",
      "\n",
      "Parameter estimates\n",
      "\n",
      "  Level    Number     Mean    Std Dev    Std Error    Lower 95.0%    Upper 95.0%\n",
      "-------  --------  -------  ---------  -----------  -------------  -------------\n",
      "      0       608  9.37007    14.215      0.576493        8.2379        10.5022\n",
      "      1       199  6.59799    11.8807     0.8422          4.93716        8.25882\n",
      "\n"
     ]
    }
   ],
   "source": [
    "# Perform two sample t-test using 'bioinfokit'\n",
    "\n",
    "  # Null hypotheses: The tEqawo group means are equal\n",
    "  # Alternative hypotheses: Two group means are different (two-tailed test)\n",
    "    # Could use a two-tailed test since it's expected that the mean is lower(not just different) when there are restrictions\n",
    "    \n",
    "  # Assumptions of the test:\n",
    "    # Assumption 1: The two samples are independent\n",
    "    # Assumption 2: The data from each of the two samples follow a normal distribution\n",
    "    # Assumption 3: The two samples have the same variances (homogeneity of variance) -- dropped below\n",
    "\n",
    "from bioinfokit.analys import stat\n",
    "\n",
    "res = stat()\n",
    "\n",
    "# for unequal variance t-test (Welch's t-test) set evar=False\n",
    "\n",
    "res.ttest(df = smoke, xfac = 'restaurn', res = 'cigs', test_type = 2, evar = False)\n",
    "\n",
    "print(res.summary)"
   ]
  },
  {
   "cell_type": "code",
   "execution_count": 9,
   "metadata": {},
   "outputs": [
    {
     "name": "stdout",
     "output_type": "stream",
     "text": [
      "\n",
      "Based on test results (two-tailed p-value of 0.007), H0 is rejected:\n",
      "\n",
      "The mean cigarettes smoke per day differs based on restaurant restrictions\n",
      "\n",
      "\n",
      "In fact, the one-tailed p-value of 0.003 suggests that \n",
      "mean cigarette consumption is lower with restrctions\n",
      "\n"
     ]
    }
   ],
   "source": [
    "# Equality of means is rejected\n",
    "\n",
    "print(f'\\nBased on test results (two-tailed p-value of 0.007), H0 is rejected:\\n')\n",
    "print('The mean cigarettes smoke per day differs based on restaurant restrictions\\n')\n",
    "\n",
    "print('\\nIn fact, the one-tailed p-value of 0.003 suggests that \\nmean cigarette consumption is lower with restrctions\\n')"
   ]
  },
  {
   "cell_type": "markdown",
   "metadata": {},
   "source": [
    "## <font color = blue> Estimate the Demand for Cigarettes by OLS <font>\n",
    "### <font color = dodgerblue> Because the dependent varaible is a non-negative integet, a linear model is not ideal in this case because it can result in negative predicted values<font>\n",
    "### <font color = dodgerblue> Furthermore, because most people don't smoke, the dependent variable is \"bunched up at zero <font>\n",
    "### <font color = dodgerblue> However, we can still learn something about the determinants of cigarette smoking using a linear model <font>"
   ]
  },
  {
   "cell_type": "code",
   "execution_count": 10,
   "metadata": {},
   "outputs": [],
   "source": [
    "# Use 'statsmodels' to estimate the demand for cigarettes by OLS with 'smf.ols'\n",
    "# In this case, the model is specified with an R-style formula and a Pandas dataframe\n",
    "\n",
    "  # Note: logs of income and cigprice, and age**2, are in the data set -- here they're generated to illustrate how to do it\n",
    "\n",
    "reg_ols = smf.ols(formula = 'cigs ~ np.log(income) + np.log(cigpric) + '\n",
    "                  ' educ + age + I(age**2) + restaurn',\n",
    "                  data = smoke)\n",
    "\n",
    "  # Note:  The I() function creates new regressors (age^2 in this case)\n",
    "\n",
    "results_ols = reg_ols.fit()"
   ]
  },
  {
   "cell_type": "code",
   "execution_count": 11,
   "metadata": {},
   "outputs": [
    {
     "name": "stdout",
     "output_type": "stream",
     "text": [
      "                            OLS Regression Results                            \n",
      "==============================================================================\n",
      "Dep. Variable:                   cigs   R-squared:                       0.053\n",
      "Model:                            OLS   Adj. R-squared:                  0.046\n",
      "Method:                 Least Squares   F-statistic:                     7.423\n",
      "Date:                Thu, 05 Aug 2021   Prob (F-statistic):           9.50e-08\n",
      "Time:                        13:40:55   Log-Likelihood:                -3236.2\n",
      "No. Observations:                 807   AIC:                             6486.\n",
      "Df Residuals:                     800   BIC:                             6519.\n",
      "Df Model:                           6                                         \n",
      "Covariance Type:            nonrobust                                         \n",
      "===================================================================================\n",
      "                      coef    std err          t      P>|t|      [0.025      0.975]\n",
      "-----------------------------------------------------------------------------------\n",
      "Intercept          -3.6398     24.079     -0.151      0.880     -50.905      43.625\n",
      "np.log(income)      0.8803      0.728      1.210      0.227      -0.548       2.309\n",
      "np.log(cigpric)    -0.7509      5.773     -0.130      0.897     -12.084      10.582\n",
      "educ               -0.5015      0.167     -3.002      0.003      -0.829      -0.174\n",
      "age                 0.7707      0.160      4.813      0.000       0.456       1.085\n",
      "I(age ** 2)        -0.0090      0.002     -5.176      0.000      -0.012      -0.006\n",
      "restaurn           -2.8251      1.112     -2.541      0.011      -5.007      -0.643\n",
      "==============================================================================\n",
      "Omnibus:                      225.317   Durbin-Watson:                   2.013\n",
      "Prob(Omnibus):                  0.000   Jarque-Bera (JB):              494.255\n",
      "Skew:                           1.536   Prob(JB):                    4.72e-108\n",
      "Kurtosis:                       5.294   Cond. No.                     1.33e+05\n",
      "==============================================================================\n",
      "\n",
      "Notes:\n",
      "[1] Standard Errors assume that the covariance matrix of the errors is correctly specified.\n",
      "[2] The condition number is large, 1.33e+05. This might indicate that there are\n",
      "strong multicollinearity or other numerical problems.\n"
     ]
    }
   ],
   "source": [
    "# Display results\n",
    "\n",
    "print(results_ols.summary())"
   ]
  },
  {
   "cell_type": "code",
   "execution_count": 12,
   "metadata": {},
   "outputs": [
    {
     "name": "stdout",
     "output_type": "stream",
     "text": [
      "\n",
      "The multivariate regression results confirm the univariate results found above:\n",
      "\n",
      "The presence of restaurant restrictions is associated with a reduction of 2.83 for mean cigarettes smoke per day\n",
      "\n"
     ]
    }
   ],
   "source": [
    "# Results regarding smoking restrictions\n",
    "\n",
    "print('\\nThe multivariate regression results confirm the univariate results found above:\\n')\n",
    "print('The presence of restaurant restrictions is associated with a reduction of 2.83 for mean cigarettes smoke per day\\n')"
   ]
  },
  {
   "cell_type": "code",
   "execution_count": 13,
   "metadata": {},
   "outputs": [
    {
     "name": "stdout",
     "output_type": "stream",
     "text": [
      "\n",
      "Table of OLS Results: \n",
      "                      b       se       t    pval\n",
      "Intercept       -3.6398  24.0787 -0.1512  0.8799\n",
      "np.log(income)   0.8803   0.7278  1.2095  0.2268\n",
      "np.log(cigpric) -0.7509   5.7733 -0.1301  0.8966\n",
      "educ            -0.5015   0.1671 -3.0016  0.0028\n",
      "age              0.7707   0.1601  4.8132  0.0000\n",
      "I(age ** 2)     -0.0090   0.0017 -5.1765  0.0000\n",
      "restaurn        -2.8251   1.1118 -2.5410  0.0112\n",
      "\n"
     ]
    }
   ],
   "source": [
    "# Another way to disply results\n",
    "\n",
    "table_ols = pd.DataFrame({'b': round(results_ols.params, 4),\n",
    "                          'se': round(results_ols.bse, 4),\n",
    "                          't': round(results_ols.tvalues, 4),\n",
    "                          'pval': round(results_ols.pvalues, 4)})\n",
    "\n",
    "print(f'\\nTable of OLS Results: \\n{table_ols}\\n')"
   ]
  },
  {
   "cell_type": "markdown",
   "metadata": {},
   "source": [
    "### <font color = blue> Test for Normality <font>"
   ]
  },
  {
   "cell_type": "code",
   "execution_count": 14,
   "metadata": {},
   "outputs": [
    {
     "data": {
      "text/plain": [
       "[('Jarque-Bera', 494.2552536419459),\n",
       " ('Chi^2 two-tail prob.', 4.718841017867945e-108),\n",
       " ('Skew', 1.5359252289922796),\n",
       " ('Kurtosis', 5.294074053792515)]"
      ]
     },
     "execution_count": 14,
     "metadata": {},
     "output_type": "execute_result"
    }
   ],
   "source": [
    "# Test the normality of the residuals using the Jarque-Bera test (based on the Chi^2 statistic)\n",
    "\n",
    "  # H0: Residuals are normally distributed\n",
    "  # H1: Residuals are not normally distributed\n",
    "\n",
    "# Normality is one of the assumptions of OLS as well as for many statistical tests,\n",
    "# such as the t test or F test - so assuring the residuals are normal is important\n",
    "\n",
    "# Genearlly, a large value of the J-B test indicates the residuals are not normally distributed\n",
    "\n",
    "test = sms.jarque_bera(results_ols.resid)\n",
    "\n",
    "name = ['Jarque-Bera', 'Chi^2 two-tail prob.', 'Skew', 'Kurtosis']\n",
    "\n",
    "lzip(name, test)"
   ]
  },
  {
   "cell_type": "code",
   "execution_count": 15,
   "metadata": {},
   "outputs": [
    {
     "name": "stdout",
     "output_type": "stream",
     "text": [
      "\n",
      "Based on test results, H0 is rejected:\n",
      "\n",
      "The residuals are not normally distributed\n",
      "\n"
     ]
    }
   ],
   "source": [
    "# Normality is rejected\n",
    "\n",
    "print(f'\\nBased on test results, H0 is rejected:\\n')\n",
    "print('The residuals are not normally distributed\\n')"
   ]
  },
  {
   "cell_type": "code",
   "execution_count": 16,
   "metadata": {},
   "outputs": [
    {
     "data": {
      "text/plain": [
       "Text(0.5, 1.0, 'Histogram of OLS Residuals')"
      ]
     },
     "execution_count": 16,
     "metadata": {},
     "output_type": "execute_result"
    },
    {
     "data": {
      "image/png": "[encoded data removed]",
      "text/plain": [
       "<Figure size 864x576 with 1 Axes>"
      ]
     },
     "metadata": {},
     "output_type": "display_data"
    }
   ],
   "source": [
    "# Visaully examine normality of the rediduals\n",
    "\n",
    "plt.figure(figsize=(12, 8))\n",
    "\n",
    "plt.hist(results_ols.resid, bins = 75, color = 'dodgerblue', edgecolor = 'blue')\n",
    "\n",
    "plt.title('Histogram of OLS Residuals', fontsize = 22, color = 'blue')"
   ]
  },
  {
   "cell_type": "code",
   "execution_count": 17,
   "metadata": {},
   "outputs": [
    {
     "data": {
      "text/plain": [
       "[Text(0.5, 1.0, 'Distribution of Residuals\\n')]"
      ]
     },
     "execution_count": 17,
     "metadata": {},
     "output_type": "execute_result"
    },
    {
     "data": {
      "image/png": "[encoded data removed]",
      "text/plain": [
       "<Figure size 864x576 with 2 Axes>"
      ]
     },
     "metadata": {},
     "output_type": "display_data"
    }
   ],
   "source": [
    "# Histogram for residuals with a density plot\n",
    "\n",
    "fig_dims = (12, 8)\n",
    "\n",
    "sns.set(font_scale = 2.0)\n",
    "\n",
    "sns.set_style('white')\n",
    "\n",
    "fig, ax1 = plt.subplots(figsize = fig_dims)\n",
    "\n",
    "sns.kdeplot(results_ols.resid, ax = ax1, color = 'darkorange', lw = 2)\n",
    "\n",
    "ax2 = ax1.twinx()\n",
    "\n",
    "sns.histplot(results_ols.resid, ax = ax2, \n",
    "             color = 'dodgerblue', edgecolor = 'black',\n",
    "             bins = 75).set(title='Distribution of Residuals\\n')"
   ]
  },
  {
   "cell_type": "markdown",
   "metadata": {},
   "source": [
    "## <font color = blue> Checking for Heteroskedastity <font>"
   ]
  },
  {
   "cell_type": "code",
   "execution_count": 26,
   "metadata": {},
   "outputs": [
    {
     "data": {
      "image/png": "[encoded data removed]",
      "text/plain": [
       "<Figure size 864x576 with 1 Axes>"
      ]
     },
     "metadata": {},
     "output_type": "display_data"
    }
   ],
   "source": [
    "# Scatter plot of residuals versus fitted values\n",
    "\n",
    "sns.set_style('white')\n",
    "\n",
    "plt.figure(figsize=(12, 8))\n",
    "\n",
    "plt.scatter(smoke.lincome, results_ols.resid)\n",
    "\n",
    "plt.axhline(y = 0, color = 'r', linestyle = '--')\n",
    "\n",
    "plt.xlabel('\\nLn of Income', color = 'blue', fontsize = 18)\n",
    "plt.ylabel('Resdiuals\\n', color = 'blue', fontsize = 18)\n",
    "plt.title('Scatter of Residuals vs Ln of Income', fontsize = 22, color = 'blue')\n",
    "\n",
    "plt.show()"
   ]
  },
  {
   "cell_type": "code",
   "execution_count": 27,
   "metadata": {
    "scrolled": false
   },
   "outputs": [
    {
     "data": {
      "image/png": "[encoded data removed]",
      "text/plain": [
       "<Figure size 864x576 with 1 Axes>"
      ]
     },
     "metadata": {},
     "output_type": "display_data"
    }
   ],
   "source": [
    "# Scatter plot of residuals versus fitted values\n",
    "\n",
    "sns.set_style('white')\n",
    "\n",
    "plt.figure(figsize=(12, 8))\n",
    "\n",
    "plt.scatter(results_ols.fittedvalues, results_ols.resid)\n",
    "            \n",
    "plt.xlabel('\\nFitted Values', fontsize = 18)\n",
    "plt.ylabel('Resdiuals\\n', fontsize = 18)\n",
    "plt.title('Scatter of Residuals vs Fitted Values', fontsize = 22, color = 'blue')\n",
    "\n",
    "plt.xticks(fontsize = 12)\n",
    "plt.yticks(fontsize = 12)\n",
    "\n",
    "plt.axhline(y = 0, color = 'r', linestyle = '--')\n",
    "\n",
    "plt.show()"
   ]
  },
  {
   "cell_type": "markdown",
   "metadata": {},
   "source": [
    "### <font color = blue> B-P Test for Heteroskedasticity<font>"
   ]
  },
  {
   "cell_type": "code",
   "execution_count": 28,
   "metadata": {},
   "outputs": [
    {
     "data": {
      "text/plain": [
       "[('Lagrange multiplier statistic', 32.25841908120094),\n",
       " ('LM p-value', 1.4557794830280687e-05),\n",
       " ('F-value', 5.55168671734289),\n",
       " ('F p-value', 1.1888109236640077e-05)]"
      ]
     },
     "execution_count": 28,
     "metadata": {},
     "output_type": "execute_result"
    }
   ],
   "source": [
    "# Perform the Breusch-Pagan test for heteroskedasticity\n",
    "\n",
    "  # Null hypothesis (H0): Homoscedasticity (variances are all equal)\n",
    "  # Alternative hypothesis: (Ha): Homoscedasticity is not present (i.e., heteroscedasticity exists)\n",
    "\n",
    "# The B-P test is based on the Lagrange multiplier statistic\n",
    "# An F-test can also be used to test for equality of variances\n",
    "\n",
    "test = sms.het_breuschpagan(results_ols.resid, results_ols.model.exog)\n",
    "\n",
    "names = ['Lagrange multiplier statistic', 'LM p-value', 'F-value', 'F p-value']\n",
    "\n",
    "lzip(names, test)"
   ]
  },
  {
   "cell_type": "code",
   "execution_count": 29,
   "metadata": {},
   "outputs": [
    {
     "name": "stdout",
     "output_type": "stream",
     "text": [
      "\n",
      "Based on the test results, H0 is rejected\n",
      "\n",
      "Given the presence of heteroskedasticity, OLS is not appropriate\n"
     ]
    }
   ],
   "source": [
    "# Homoskedasticity is rejected\n",
    "\n",
    "print(f'\\nBased on the test results, H0 is rejected\\n')\n",
    "print('Given the presence of heteroskedasticity, OLS is not appropriate')"
   ]
  },
  {
   "cell_type": "markdown",
   "metadata": {},
   "source": [
    "### <font color = blue> Simple Solution:  Use Robust Standard Errors <font>"
   ]
  },
  {
   "cell_type": "code",
   "execution_count": 30,
   "metadata": {},
   "outputs": [
    {
     "name": "stdout",
     "output_type": "stream",
     "text": [
      "                            OLS Regression Results                            \n",
      "==============================================================================\n",
      "Dep. Variable:                   cigs   R-squared:                       0.053\n",
      "Model:                            OLS   Adj. R-squared:                  0.046\n",
      "Method:                 Least Squares   F-statistic:                     10.81\n",
      "Date:                Thu, 05 Aug 2021   Prob (F-statistic):           1.38e-11\n",
      "Time:                        13:50:46   Log-Likelihood:                -3236.2\n",
      "No. Observations:                 807   AIC:                             6486.\n",
      "Df Residuals:                     800   BIC:                             6519.\n",
      "Df Model:                           6                                         \n",
      "Covariance Type:                  HC1                                         \n",
      "===================================================================================\n",
      "                      coef    std err          t      P>|t|      [0.025      0.975]\n",
      "-----------------------------------------------------------------------------------\n",
      "Intercept          -3.6398     25.616     -0.142      0.887     -53.923      46.644\n",
      "np.log(income)      0.8803      0.596      1.477      0.140      -0.290       2.050\n",
      "np.log(cigpric)    -0.7509      6.035     -0.124      0.901     -12.598      11.096\n",
      "educ               -0.5015      0.162     -3.088      0.002      -0.820      -0.183\n",
      "age                 0.7707      0.138      5.573      0.000       0.499       1.042\n",
      "I(age ** 2)        -0.0090      0.001     -6.171      0.000      -0.012      -0.006\n",
      "restaurn           -2.8251      1.008     -2.803      0.005      -4.804      -0.846\n",
      "==============================================================================\n",
      "Omnibus:                      225.317   Durbin-Watson:                   2.013\n",
      "Prob(Omnibus):                  0.000   Jarque-Bera (JB):              494.255\n",
      "Skew:                           1.536   Prob(JB):                    4.72e-108\n",
      "Kurtosis:                       5.294   Cond. No.                     1.33e+05\n",
      "==============================================================================\n",
      "\n",
      "Notes:\n",
      "[1] Standard Errors are heteroscedasticity robust (HC1)\n",
      "[2] The condition number is large, 1.33e+05. This might indicate that there are\n",
      "strong multicollinearity or other numerical problems.\n"
     ]
    }
   ],
   "source": [
    "# OLS parameter estimates are unbiased under heteroskedasticity, however the standard errors will be biased (\"wrong\")\n",
    "# The use of \"robust\" standard errors (based on sandwich estimators of the variance-covariance matrix) produces unbiased standard errors\n",
    "  # There are several heterskedasticy robust var-cov matrices -- 'HC0', 'HC1', 'HC2', 'HC3'\n",
    "\n",
    "print(results_ols.get_robustcov_results(cov_type = 'HC1').summary())"
   ]
  },
  {
   "cell_type": "markdown",
   "metadata": {},
   "source": [
    "### <font color = blue> Estimation using Weighted Least Squares (WLS) <font>"
   ]
  },
  {
   "cell_type": "code",
   "execution_count": null,
   "metadata": {},
   "outputs": [],
   "source": [
    "# Weighted least squares (WLS) -- A special case of Generalized Least Squares (GLS)\n",
    "\n",
    "  # WLS attempts to provide a more efficient alternative to OLS -- WLS minimizes the sum of weighted residuals,\n",
    "  # where the weight try to account for differences the variances of error terms\n",
    "  # Observations with smaller variance have a relatively larger weight in determining the parameter estimates\n",
    "\n",
    "  # Assume heteroskadasticty is known up to a multiplicative contant -- Var(error|X) = sigma^2*h(X), where h(x) > 0 is\n",
    "  # some function of the explanatory variables that determines the heteroskedasticity\n",
    "\n",
    "reg_wls = smf.wls(formula = 'cigs ~ np.log(income) + np.log(cigpric) + '\n",
    "                            'educ + age + I(age**2) + restaurn',\n",
    "                  weights = 1./results_ols.resid**2, data = smoke)\n",
    "\n",
    "results_wls = reg_wls.fit()\n",
    "\n",
    "print(results_wls.summary())"
   ]
  },
  {
   "cell_type": "code",
   "execution_count": 36,
   "metadata": {},
   "outputs": [
    {
     "name": "stdout",
     "output_type": "stream",
     "text": [
      "                            WLS Regression Results                            \n",
      "==============================================================================\n",
      "Dep. Variable:                   cigs   R-squared:                       0.038\n",
      "Model:                            WLS   Adj. R-squared:                  0.031\n",
      "Method:                 Least Squares   F-statistic:                     5.238\n",
      "Date:                Thu, 05 Aug 2021   Prob (F-statistic):           2.65e-05\n",
      "Time:                        14:04:44   Log-Likelihood:                -3223.1\n",
      "No. Observations:                 794   AIC:                             6460.\n",
      "Df Residuals:                     787   BIC:                             6493.\n",
      "Df Model:                           6                                         \n",
      "Covariance Type:            nonrobust                                         \n",
      "===================================================================================\n",
      "                      coef    std err          t      P>|t|      [0.025      0.975]\n",
      "-----------------------------------------------------------------------------------\n",
      "Intercept          -4.1752     25.250     -0.165      0.869     -53.741      45.390\n",
      "np.log(income)      0.9292      0.808      1.149      0.251      -0.658       2.516\n",
      "np.log(cigpric)    -1.1733      5.987     -0.196      0.845     -12.926      10.580\n",
      "educ               -0.4775      0.178     -2.678      0.008      -0.827      -0.127\n",
      "age                 0.8635      0.199      4.336      0.000       0.473       1.254\n",
      "I(age ** 2)        -0.0103      0.002     -4.503      0.000      -0.015      -0.006\n",
      "restaurn           -2.6815      1.225     -2.189      0.029      -5.086      -0.277\n",
      "==============================================================================\n",
      "Omnibus:                      218.970   Durbin-Watson:                   2.007\n",
      "Prob(Omnibus):                  0.000   Jarque-Bera (JB):              481.753\n",
      "Skew:                           1.511   Prob(JB):                    2.45e-105\n",
      "Kurtosis:                       5.330   Cond. No.                     1.20e+05\n",
      "==============================================================================\n",
      "\n",
      "Notes:\n",
      "[1] Standard Errors assume that the covariance matrix of the errors is correctly specified.\n",
      "[2] The condition number is large, 1.2e+05. This might indicate that there are\n",
      "strong multicollinearity or other numerical problems.\n"
     ]
    },
    {
     "name": "stderr",
     "output_type": "stream",
     "text": [
      "C:\\Users\\gferrier\\Anaconda3\\lib\\site-packages\\pandas\\core\\arraylike.py:364: RuntimeWarning: invalid value encountered in sqrt\n",
      "  result = getattr(ufunc, method)(*inputs, **kwargs)\n"
     ]
    }
   ],
   "source": [
    "# Another way to specify WLS\n",
    "\n",
    "wls_weight = list(1 / np.sqrt(1/results_ols.fittedvalues))\n",
    "\n",
    "reg_wls = smf.wls(formula = 'cigs ~ np.log(income) + np.log(cigpric) +'\n",
    "                            'educ + age + I(age**2) + restaurn',\n",
    "                  weights = wls_weight, data = smoke)\n",
    "\n",
    "results_wls = reg_wls.fit()\n",
    "\n",
    "print(results_wls.summary())"
   ]
  },
  {
   "cell_type": "code",
   "execution_count": 37,
   "metadata": {},
   "outputs": [
    {
     "name": "stdout",
     "output_type": "stream",
     "text": [
      "                                 WLS Regression Results                                \n",
      "=======================================================================================\n",
      "Dep. Variable:                   cigs   R-squared (uncentered):                   0.324\n",
      "Model:                            WLS   Adj. R-squared (uncentered):              0.319\n",
      "Method:                 Least Squares   F-statistic:                              63.89\n",
      "Date:                Thu, 05 Aug 2021   Prob (F-statistic):                    8.17e-65\n",
      "Time:                        14:04:49   Log-Likelihood:                         -3227.7\n",
      "No. Observations:                 807   AIC:                                      6467.\n",
      "Df Residuals:                     801   BIC:                                      6496.\n",
      "Df Model:                           6                                                  \n",
      "Covariance Type:            nonrobust                                                  \n",
      "==============================================================================\n",
      "                 coef    std err          t      P>|t|      [0.025      0.975]\n",
      "------------------------------------------------------------------------------\n",
      "lincome        0.9945      0.612      1.624      0.105      -0.208       2.197\n",
      "lcigpric      -1.9475      1.356     -1.436      0.151      -4.609       0.714\n",
      "educ          -0.4523      0.164     -2.764      0.006      -0.774      -0.131\n",
      "age            0.7433      0.156      4.757      0.000       0.437       1.050\n",
      "agesq         -0.0087      0.002     -5.144      0.000      -0.012      -0.005\n",
      "restaurn      -2.7431      1.090     -2.517      0.012      -4.882      -0.604\n",
      "==============================================================================\n",
      "Omnibus:                      213.891   Durbin-Watson:                   2.025\n",
      "Prob(Omnibus):                  0.000   Jarque-Bera (JB):              438.457\n",
      "Skew:                           1.503   Prob(JB):                     6.17e-96\n",
      "Kurtosis:                       5.002   Cond. No.                     8.08e+03\n",
      "==============================================================================\n",
      "\n",
      "Notes:\n",
      "[1] R² is computed without centering (uncentered) since the model does not contain a constant.\n",
      "[2] Standard Errors assume that the covariance matrix of the errors is correctly specified.\n",
      "[3] The condition number is large, 8.08e+03. This might indicate that there are\n",
      "strong multicollinearity or other numerical problems.\n"
     ]
    }
   ],
   "source": [
    "# Another method: WLS uses weights that are assumed to be proportional to the inverse of the variance of the observations\n",
    "\n",
    "X = smoke[['lincome', 'lcigpric', 'educ', 'age', 'agesq', 'restaurn']]\n",
    "y = smoke.cigs\n",
    "\n",
    "#  X = sm.add_constant(X)\n",
    "\n",
    "w = smoke.lincome\n",
    "\n",
    "mod_wls = sm.WLS(y, X, weights = 1./(w ** 2))\n",
    "res_wls = mod_wls.fit()\n",
    "\n",
    "print(res_wls.summary())"
   ]
  },
  {
   "cell_type": "code",
   "execution_count": 39,
   "metadata": {},
   "outputs": [
    {
     "name": "stdout",
     "output_type": "stream",
     "text": [
      "                            WLS Regression Results                            \n",
      "==============================================================================\n",
      "Dep. Variable:                   cigs   R-squared:                       0.038\n",
      "Model:                            WLS   Adj. R-squared:                  0.031\n",
      "Method:                 Least Squares   F-statistic:                     5.238\n",
      "Date:                Thu, 05 Aug 2021   Prob (F-statistic):           2.65e-05\n",
      "Time:                        14:05:09   Log-Likelihood:                -3223.1\n",
      "No. Observations:                 794   AIC:                             6460.\n",
      "Df Residuals:                     787   BIC:                             6493.\n",
      "Df Model:                           6                                         \n",
      "Covariance Type:            nonrobust                                         \n",
      "===================================================================================\n",
      "                      coef    std err          t      P>|t|      [0.025      0.975]\n",
      "-----------------------------------------------------------------------------------\n",
      "Intercept          -4.1752     25.250     -0.165      0.869     -53.741      45.390\n",
      "np.log(income)      0.9292      0.808      1.149      0.251      -0.658       2.516\n",
      "np.log(cigpric)    -1.1733      5.987     -0.196      0.845     -12.926      10.580\n",
      "educ               -0.4775      0.178     -2.678      0.008      -0.827      -0.127\n",
      "age                 0.8635      0.199      4.336      0.000       0.473       1.254\n",
      "I(age ** 2)        -0.0103      0.002     -4.503      0.000      -0.015      -0.006\n",
      "restaurn           -2.6815      1.225     -2.189      0.029      -5.086      -0.277\n",
      "==============================================================================\n",
      "Omnibus:                      218.970   Durbin-Watson:                   2.007\n",
      "Prob(Omnibus):                  0.000   Jarque-Bera (JB):              481.753\n",
      "Skew:                           1.511   Prob(JB):                    2.45e-105\n",
      "Kurtosis:                       5.330   Cond. No.                     1.20e+05\n",
      "==============================================================================\n",
      "\n",
      "Notes:\n",
      "[1] Standard Errors assume that the covariance matrix of the errors is correctly specified.\n",
      "[2] The condition number is large, 1.2e+05. This might indicate that there are\n",
      "strong multicollinearity or other numerical problems.\n"
     ]
    }
   ],
   "source": [
    "# Display results\n",
    "\n",
    "print(results_wls.summary())"
   ]
  },
  {
   "cell_type": "code",
   "execution_count": 40,
   "metadata": {},
   "outputs": [
    {
     "name": "stdout",
     "output_type": "stream",
     "text": [
      "table_wls: \n",
      "                      b       se       t    pval\n",
      "Intercept       -4.1752  25.2501 -0.1654  0.8687\n",
      "np.log(income)   0.9292   0.8084  1.1494  0.2507\n",
      "np.log(cigpric) -1.1733   5.9873 -0.1960  0.8447\n",
      "educ            -0.4775   0.1783 -2.6779  0.0076\n",
      "age              0.8635   0.1991  4.3361  0.0000\n",
      "I(age ** 2)     -0.0103   0.0023 -4.5033  0.0000\n",
      "restaurn        -2.6815   1.2250 -2.1889  0.0289\n",
      "\n"
     ]
    }
   ],
   "source": [
    "# Another way to display results\n",
    "\n",
    "table_wls = pd.DataFrame({'b': round(results_wls.params, 4),\n",
    "                          'se': round(results_wls.bse, 4),\n",
    "                          't': round(results_wls.tvalues, 4),\n",
    "                          'pval': round(results_wls.pvalues, 4)})\n",
    "\n",
    "print(f'table_wls: \\n{table_wls}\\n')"
   ]
  },
  {
   "cell_type": "code",
   "execution_count": 41,
   "metadata": {},
   "outputs": [
    {
     "name": "stdout",
     "output_type": "stream",
     "text": [
      "\n",
      "Based on the test results (the p-value is not less than 0.05), we fail to reject H0:\n",
      "\n",
      "The use of FGLS appears to have rectified the problem of heteroskedasticity\n",
      "\n"
     ]
    }
   ],
   "source": [
    "# Fail to reject homoskedasticity\n",
    "\n",
    "print(f'\\nBased on the test results (the p-value is not less than 0.05), we fail to reject H0:\\n')\n",
    "print('The use of FGLS appears to have rectified the problem of heteroskedasticity\\n')"
   ]
  },
  {
   "cell_type": "markdown",
   "metadata": {},
   "source": [
    "### <font color = blue> Estimation using Feasible Generalized Least Squares (FGLS) <font>"
   ]
  },
  {
   "cell_type": "code",
   "execution_count": 42,
   "metadata": {},
   "outputs": [],
   "source": [
    "# Feasible Geneeralized Least Squares (FGLS)\n",
    "  # Works with arbitrary covariance structure by estimating the covariance-variance matrix\n",
    "    \n",
    "smoke['logu2'] = np.log(results_ols.resid ** 2)\n",
    "\n",
    "reg_fgls = smf.ols(formula = 'logu2 ~ np.log(income) + np.log(cigpric) +'\n",
    "                             'educ + age + I(age**2) + restaurn',\n",
    "                   data = smoke)\n",
    "\n",
    "results_fgls = reg_fgls.fit()"
   ]
  },
  {
   "cell_type": "code",
   "execution_count": 43,
   "metadata": {},
   "outputs": [
    {
     "name": "stdout",
     "output_type": "stream",
     "text": [
      "                            OLS Regression Results                            \n",
      "==============================================================================\n",
      "Dep. Variable:                  logu2   R-squared:                       0.247\n",
      "Model:                            OLS   Adj. R-squared:                  0.242\n",
      "Method:                 Least Squares   F-statistic:                     43.82\n",
      "Date:                Thu, 05 Aug 2021   Prob (F-statistic):           2.16e-46\n",
      "Time:                        14:05:16   Log-Likelihood:                -1428.4\n",
      "No. Observations:                 807   AIC:                             2871.\n",
      "Df Residuals:                     800   BIC:                             2904.\n",
      "Df Model:                           6                                         \n",
      "Covariance Type:            nonrobust                                         \n",
      "===================================================================================\n",
      "                      coef    std err          t      P>|t|      [0.025      0.975]\n",
      "-----------------------------------------------------------------------------------\n",
      "Intercept          -1.9207      2.563     -0.749      0.454      -6.952       3.110\n",
      "np.log(income)      0.2915      0.077      3.763      0.000       0.139       0.444\n",
      "np.log(cigpric)     0.1954      0.615      0.318      0.751      -1.011       1.402\n",
      "educ               -0.0797      0.018     -4.482      0.000      -0.115      -0.045\n",
      "age                 0.2040      0.017     11.969      0.000       0.171       0.237\n",
      "I(age ** 2)        -0.0024      0.000    -12.893      0.000      -0.003      -0.002\n",
      "restaurn           -0.6270      0.118     -5.298      0.000      -0.859      -0.395\n",
      "==============================================================================\n",
      "Omnibus:                      403.747   Durbin-Watson:                   2.025\n",
      "Prob(Omnibus):                  0.000   Jarque-Bera (JB):             6091.252\n",
      "Skew:                          -1.883   Prob(JB):                         0.00\n",
      "Kurtosis:                      15.922   Cond. No.                     1.33e+05\n",
      "==============================================================================\n",
      "\n",
      "Notes:\n",
      "[1] Standard Errors assume that the covariance matrix of the errors is correctly specified.\n",
      "[2] The condition number is large, 1.33e+05. This might indicate that there are\n",
      "strong multicollinearity or other numerical problems.\n"
     ]
    }
   ],
   "source": [
    "# Display results\n",
    "\n",
    "print(results_fgls.summary())"
   ]
  },
  {
   "cell_type": "code",
   "execution_count": 44,
   "metadata": {
    "scrolled": true
   },
   "outputs": [
    {
     "name": "stdout",
     "output_type": "stream",
     "text": [
      "\n",
      "table_fgls: \n",
      "                      b      se        t    pval\n",
      "Intercept       -1.9207  2.5630  -0.7494  0.4538\n",
      "np.log(income)   0.2915  0.0775   3.7634  0.0002\n",
      "np.log(cigpric)  0.1954  0.6145   0.3180  0.7506\n",
      "educ            -0.0797  0.0178  -4.4817  0.0000\n",
      "age              0.2040  0.0170  11.9693  0.0000\n",
      "I(age ** 2)     -0.0024  0.0002 -12.8931  0.0000\n",
      "restaurn        -0.6270  0.1183  -5.2982  0.0000\n",
      "\n"
     ]
    }
   ],
   "source": [
    "# Another way to display results\n",
    "\n",
    "table_fgls = pd.DataFrame({'b': round(results_fgls.params, 4),\n",
    "                           'se': round(results_fgls.bse, 4),\n",
    "                           't': round(results_fgls.tvalues, 4),\n",
    "                           'pval': round(results_fgls.pvalues, 4)})\n",
    "\n",
    "print(f'\\ntable_fgls: \\n{table_fgls}\\n')"
   ]
  },
  {
   "cell_type": "code",
   "execution_count": 45,
   "metadata": {},
   "outputs": [
    {
     "data": {
      "text/plain": [
       "[('Lagrange multiplier statistic', 11.839282446014266),\n",
       " ('LM p-value', 0.06565176861211475),\n",
       " ('F-value', 1.9852225568408144),\n",
       " ('F p-value', 0.06532902280677973)]"
      ]
     },
     "execution_count": 45,
     "metadata": {},
     "output_type": "execute_result"
    }
   ],
   "source": [
    "# Test for heteroskedasticity under FGLS\n",
    "\n",
    "test2 = sms.het_breuschpagan(results_fgls.resid, results_fgls.model.exog)\n",
    "\n",
    "names2 = ['Lagrange multiplier statistic', 'LM p-value', 'F-value', 'F p-value']\n",
    "\n",
    "lzip(names2, test2)"
   ]
  },
  {
   "cell_type": "code",
   "execution_count": 46,
   "metadata": {},
   "outputs": [
    {
     "name": "stdout",
     "output_type": "stream",
     "text": [
      "\n",
      "Based on the test results (the p-value is not less than 0.05), we fail to reject H0:\n",
      "\n",
      "The use of FGLS appears to have rectified the problem of heteroskedasticity\n",
      "\n"
     ]
    }
   ],
   "source": [
    "# Fail to reject homoskedasticity\n",
    "\n",
    "print(f'\\nBased on the test results (the p-value is not less than 0.05), we fail to reject H0:\\n')\n",
    "print('The use of FGLS appears to have rectified the problem of heteroskedasticity\\n')"
   ]
  }
 ],
 "metadata": {
  "kernelspec": {
   "display_name": "Python 3",
   "language": "python",
   "name": "python3"
  },
  "language_info": {
   "codemirror_mode": {
    "name": "ipython",
    "version": 3
   },
   "file_extension": ".py",
   "mimetype": "text/x-python",
   "name": "python",
   "nbconvert_exporter": "python",
   "pygments_lexer": "ipython3",
   "version": "3.7.6"
  }
 },
 "nbformat": 4,
 "nbformat_minor": 5
}
