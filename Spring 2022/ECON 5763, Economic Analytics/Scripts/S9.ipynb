{
 "cells": [
  {
   "cell_type": "markdown",
   "metadata": {},
   "source": [
    "## <font color='green'> 1. K-means Clustering on Covid Data\n",
    "* Clustering Algorithms in python: https://scikit-learn.org/stable/modules/clustering.html"
   ]
  },
  {
   "cell_type": "code",
   "execution_count": null,
   "metadata": {},
   "outputs": [],
   "source": [
    "import os\n",
    "os.chdir('/Users/hj020/Desktop/2022/EconomicAnalytics-master/Python_/Data')\n",
    "\n",
    "import numpy as np\n",
    "import pandas as pd\n",
    "import math\n",
    "\n",
    "raw0 = pd.read_csv('covid.csv')\n",
    "raw0.head()\n",
    "# Covid data\n",
    "# positivelast7per1k: # of new positive cases per 1,000 people during Oct 24,2020 - Nov 02,2020\n",
    "# testpositivitylast7: percent of new Covid tests that were positive during 1024, 2020 - 1102,2020"
   ]
  },
  {
   "cell_type": "code",
   "execution_count": null,
   "metadata": {},
   "outputs": [],
   "source": [
    "X = raw0.iloc[:,1::]"
   ]
  },
  {
   "cell_type": "markdown",
   "metadata": {},
   "source": [
    "### <font color='green'> i) K-means for Three Clusters"
   ]
  },
  {
   "cell_type": "code",
   "execution_count": null,
   "metadata": {},
   "outputs": [],
   "source": [
    "from sklearn.cluster import KMeans\n",
    "KMres = KMeans(n_clusters=3, random_state=0).fit(X)\n",
    "y_pred = KMres.predict(X)"
   ]
  },
  {
   "cell_type": "code",
   "execution_count": null,
   "metadata": {},
   "outputs": [],
   "source": [
    "y_pred "
   ]
  },
  {
   "cell_type": "code",
   "execution_count": null,
   "metadata": {},
   "outputs": [],
   "source": [
    "# Visualization\n",
    "import matplotlib.pyplot as plt\n",
    "\n",
    "plt.figure(figsize=(12, 10))\n",
    "plt.scatter(X.iloc[:,0], X.iloc[:,1], c=y_pred) \n",
    "\n",
    "for i, txt in enumerate(raw0.iloc[:, 0]):\n",
    "    plt.annotate(txt, (X.iloc[i,0], X.iloc[i,1]),size=14)\n",
    "    \n",
    "plt.xlabel('Positive Cases per 1000 People in the last 7 days ',fontsize = 15)\n",
    "plt.ylabel('Positivity Rate in the last 7 days',fontsize = 15)\n",
    "plt.title('Covid Status by State',fontsize = 15)\n",
    "    \n",
    "plt.show()"
   ]
  },
  {
   "cell_type": "markdown",
   "metadata": {},
   "source": [
    "### <font color='green'> ii) K-means for different numbers of clusters"
   ]
  },
  {
   "cell_type": "code",
   "execution_count": null,
   "metadata": {},
   "outputs": [],
   "source": [
    "plt.figure(figsize=(18, 18))\n",
    "\n",
    "for i in range(1,5):\n",
    "    plt.subplot(2,2,i)\n",
    "    KMres = KMeans(n_clusters=i+1, random_state=0).fit(X)\n",
    "    y_pred = KMres.predict(X)\n",
    "    \n",
    "    plt.scatter(X.iloc[:,0], X.iloc[:,1], c=y_pred)\n",
    "    plt.title(\"# of Clusters = %d\" %(i+1))\n",
    "    \n",
    "    for i, txt in enumerate(raw0.iloc[:, 0]):\n",
    "        plt.annotate(txt, (X.iloc[i,0], X.iloc[i,1]),size=10)\n",
    "        \n",
    "plt.show()"
   ]
  },
  {
   "cell_type": "markdown",
   "metadata": {},
   "source": [
    "## <font color='green'> 2. Hierarchical Clustering on Cancer Cell line data (NCI60) \n",
    "* https://scikit-learn.org/stable/modules/clustering.html#hierarchical-clustering\n",
    "* An example: https://joernhees.de/blog/2015/08/26/scipy-hierarchical-clustering-and-dendrogram-tutorial/"
   ]
  },
  {
   "cell_type": "code",
   "execution_count": null,
   "metadata": {},
   "outputs": [],
   "source": [
    "raw = pd.read_csv('NCI60.csv') # 6,830 gene expression measurements on 64 cancer cell lines\n",
    "print(raw.shape)\n",
    "print(raw.head())"
   ]
  },
  {
   "cell_type": "code",
   "execution_count": null,
   "metadata": {},
   "outputs": [],
   "source": [
    "# We will ignore the cancer types in the last column. \n",
    "# After performing clustering, we will check the extent to which these cancer types agree with the results\n",
    "\n",
    "X = raw.iloc[:,1:-1]\n",
    "Label = raw['labs'].values.tolist() # get a \"list\" of the names for the 64 cancer cell lines (np array or pd frame don't work)"
   ]
  },
  {
   "cell_type": "markdown",
   "metadata": {},
   "source": [
    "### <font color='green'> i) Draw a Dendrogram\n",
    "* Linkage functions:https://docs.scipy.org/doc/scipy/reference/generated/scipy.cluster.hierarchy.linkage.html\n",
    "* Available linkage functions: single, complete, average, weighted, centroid, median,and ward"
   ]
  },
  {
   "cell_type": "code",
   "execution_count": null,
   "metadata": {},
   "outputs": [],
   "source": [
    "# dendrogram\n",
    "from scipy.cluster import hierarchy\n",
    "\n",
    "Z = hierarchy.linkage(X, 'complete') \n",
    "\n",
    "plt.figure(figsize=(25, 10))\n",
    "plt.xlabel('Cancer types',size=12)\n",
    "hierarchy.dendrogram(Z,\n",
    "                     leaf_rotation=90,  # rotate the labels on X-axis\n",
    "                     leaf_font_size=12,\n",
    "                     labels=Label)\n",
    "                     \n",
    "plt.title('Hierarchical Clustering on NCI60', size=20)           \n",
    "plt.show()"
   ]
  },
  {
   "cell_type": "markdown",
   "metadata": {},
   "source": [
    "### <font color='green'> ii) Truncate the dendrogram to determine clusters"
   ]
  },
  {
   "cell_type": "code",
   "execution_count": null,
   "metadata": {},
   "outputs": [],
   "source": [
    "plt.figure(figsize=(25, 10))\n",
    "plt.xlabel('Cancer types',size=12)\n",
    "hierarchy.dendrogram(Z,\n",
    "                     truncate_mode='level', # The other option: 'lastp' - show only p branches\n",
    "                     p = 5, # number of clusters\n",
    "                     leaf_rotation=90,\n",
    "                     leaf_font_size=12,\n",
    "                     labels=Label,\n",
    "                     )\n",
    "                     \n",
    "plt.title('Hierarchical Clustering on NCI60 with five clusters', size=20)          \n",
    "plt.show()"
   ]
  },
  {
   "cell_type": "markdown",
   "metadata": {},
   "source": [
    "### <font color='darkred'> HW9\n",
    "* Display six dendrograms that are created on the Covid data using single, complete, average, weighted, centroid and ward linkage functions in a figure with 3 by 2 subplots"
   ]
  }
 ],
 "metadata": {
  "kernelspec": {
   "display_name": "Python 3",
   "language": "python",
   "name": "python3"
  },
  "language_info": {
   "codemirror_mode": {
    "name": "ipython",
    "version": 3
   },
   "file_extension": ".py",
   "mimetype": "text/x-python",
   "name": "python",
   "nbconvert_exporter": "python",
   "pygments_lexer": "ipython3",
   "version": "3.8.2"
  }
 },
 "nbformat": 4,
 "nbformat_minor": 2
}
