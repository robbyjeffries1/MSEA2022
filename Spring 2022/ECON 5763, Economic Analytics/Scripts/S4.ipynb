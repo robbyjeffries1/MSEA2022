{
 "cells": [
  {
   "cell_type": "markdown",
   "metadata": {},
   "source": [
    "### <font color='darkred'> HW4_1\n",
    "\n",
    "1. Compute Adj $R^2$, AIC and BIC for each of your five regression models in HW2\n",
    "    \n",
    "    * Remember that, after running a regression using statsmodels, you can access the AIC (or BIC or Adj $R^2$) of the regression by typing \"$***$.aic\" (or \"$***$.bic\" or \"$***$.rsquared_adj\") where $***$ is the name of the variable containing the regression result \n",
    "\n",
    "    \n",
    "2. Draw three graghs for the three criteria like Figure 6.2 on page 211 of the textbook \n",
    "    \n",
    "    * You can use any types of figure from \"matplotlib.pyplot\"\n",
    "    * X-axis may be defined as \"number of predictors\" or \"model number\" (set by you)\n",
    "    * Add a mark or anything onto each graph that indicates the selected model from each criterion "
   ]
  },
  {
   "cell_type": "markdown",
   "metadata": {},
   "source": [
    "## <font color='green'> Forward and Backward selection"
   ]
  },
  {
   "cell_type": "code",
   "execution_count": null,
   "metadata": {},
   "outputs": [],
   "source": [
    "import os\n",
    "os.chdir('/Users/hj020/Desktop/2022/EconomicAnalytics-master/Python_/Data')\n",
    "\n",
    "\n",
    "import numpy as np\n",
    "import pandas as pd\n",
    "import math\n",
    "\n",
    "raw0 = pd.read_csv('Boston.csv')\n",
    "raw0.head()"
   ]
  },
  {
   "cell_type": "code",
   "execution_count": null,
   "metadata": {},
   "outputs": [],
   "source": [
    "import statsmodels.api as sm\n",
    "#import statsmodels.formula.api as smf\n",
    "\n",
    "# define y and X\n",
    "raw0 = raw0.iloc[:,1:].values\n",
    "Y = raw0[:,-1] # -1 means the last one\n",
    "X = raw0[:,:-1] \n",
    "ncol=X.shape[1]"
   ]
  },
  {
   "cell_type": "code",
   "execution_count": null,
   "metadata": {},
   "outputs": [],
   "source": [
    "# Code for forward selection based on BIC\n",
    "\n",
    "pcand = list(range(ncol)) # A list to keep track of the set of predictors left to add to the model at each iteration\n",
    "psel = [] # A list to keep track of the selected predictors at each iteration (the order of the selected predictors)\n",
    "tb = np.zeros(ncol) # A vector to store the BIC of the selected model at each iteration\n",
    "p = 0 # Iteration idex\n",
    "\n",
    "while len(psel) != ncol: # Repeat below until the model includes all the predictors\n",
    "    tb0 = np.zeros((len(pcand),2)) # Store Rsquare(s) and BIC(s) of the models under consideration at each iteration\n",
    "\n",
    "    for i in range(0,len(pcand)):\n",
    "        psel0 = psel + [pcand[i]] # \"psel0\" is a temporary version of psel which includes one of the predictors in pcan and those in psel\n",
    "        # Caution: \"+\" combines two lists, but not a list and an integer (i.e pcan[i])\n",
    "        XX = X[:,psel0]\n",
    "        XX = sm.add_constant(XX)\n",
    "        model = sm.OLS(Y, XX)\n",
    "        res = model.fit()\n",
    "        tb0[i,:] = [res.rsquared, res.bic]\n",
    "    \n",
    "    ind = np.argmax(tb0[:,0]) # Find the regressor that results in the largest Rsquare when added to the model\n",
    "    psel = psel + [pcand[ind]] # Add the selected regressor to psel\n",
    "    pcand.remove(pcand[ind]) # Remove the selected regressor from pcand\n",
    "    tb[p] =  tb0[ind,1] # Store the BIC of the selected model at this iteration\n",
    "    p += 1"
   ]
  },
  {
   "cell_type": "code",
   "execution_count": null,
   "metadata": {},
   "outputs": [],
   "source": [
    "tb"
   ]
  },
  {
   "cell_type": "code",
   "execution_count": null,
   "metadata": {},
   "outputs": [],
   "source": [
    "psel"
   ]
  },
  {
   "cell_type": "code",
   "execution_count": null,
   "metadata": {},
   "outputs": [],
   "source": [
    "# Select the model that has the smallest BIC among the selected models over the iterations\n",
    "psel[:(np.argmin(tb)+1)]"
   ]
  },
  {
   "cell_type": "markdown",
   "metadata": {},
   "source": [
    "### <font color='darkred'> HW4_2\n",
    "    \n",
    "1. Write code to implement Backward Selection on the same data by modifying the code above\n",
    "\n",
    "2. Check if the forward and backward selections select the same model"
   ]
  }
 ],
 "metadata": {
  "kernelspec": {
   "display_name": "Python 3",
   "language": "python",
   "name": "python3"
  },
  "language_info": {
   "codemirror_mode": {
    "name": "ipython",
    "version": 3
   },
   "file_extension": ".py",
   "mimetype": "text/x-python",
   "name": "python",
   "nbconvert_exporter": "python",
   "pygments_lexer": "ipython3",
   "version": "3.8.2"
  }
 },
 "nbformat": 4,
 "nbformat_minor": 2
}
