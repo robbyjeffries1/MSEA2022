{
 "cells": [
  {
   "cell_type": "markdown",
   "metadata": {},
   "source": [
    "## <font color='green'> Application of Support Vector Machine to Gene Expression Data (Khan.csv)"
   ]
  },
  {
   "cell_type": "code",
   "execution_count": null,
   "metadata": {},
   "outputs": [],
   "source": [
    "import os\n",
    "os.chdir('/Users/hj020/Desktop/2022/EconomicAnalytics-master/Python_/Data')\n",
    "\n",
    "import numpy as np\n",
    "import pandas as pd\n",
    "import math\n",
    "\n",
    "# 83 tissue samples are classified into four cancer types based on 2308 gene expression measurements\n",
    "raw0 = pd.read_csv('Khan.csv') \n",
    "\n",
    "print(raw0.head())\n",
    "print(raw0.shape) # high-dimensional data (large # of features)"
   ]
  },
  {
   "cell_type": "markdown",
   "metadata": {},
   "source": [
    "### <font color='green'> Select a kernel function and tune the penalty parameter \"C\" using CV"
   ]
  },
  {
   "cell_type": "markdown",
   "metadata": {},
   "source": [
    "#### <font color='green'> i) Data Preparation"
   ]
  },
  {
   "cell_type": "code",
   "execution_count": null,
   "metadata": {},
   "outputs": [],
   "source": [
    "X = raw0.iloc[:,2:]\n",
    "Y = raw0.iloc[:,1]\n",
    "\n",
    "import warnings\n",
    "warnings.filterwarnings(\"ignore\") # suppress warnings\n",
    "\n",
    "from sklearn.model_selection import train_test_split\n",
    "\n",
    "X_train, X_test, y_train, y_test = train_test_split(X, Y, test_size=0.3)"
   ]
  },
  {
   "cell_type": "markdown",
   "metadata": {},
   "source": [
    "#### <font color='green'> ii) Select a kernel function and tune the penalty parameter \"C\" using \"GridSearchCV\"\n",
    "* SVC: https://scikit-learn.org/stable/modules/generated/sklearn.svm.SVC.html#sklearn.svm.SVC\n",
    "* Available kernel functions: https://scikit-learn.org/stable/modules/svm.html#svm-kernels\n",
    "* Precision & Recall: https://scikit-learn.org/stable/modules/generated/sklearn.metrics.precision_recall_fscore_support.html#sklearn.metrics.precision_recall_fscore_support"
   ]
  },
  {
   "cell_type": "code",
   "execution_count": null,
   "metadata": {},
   "outputs": [],
   "source": [
    "from sklearn.model_selection import GridSearchCV\n",
    "from sklearn.metrics import classification_report\n",
    "from sklearn.svm import SVC # support vector machines for classification (SVR is for regression)\n",
    "\n",
    "tuned_parameters = [{'kernel': ['rbf'], 'C': [1, 10, 100, 1000]},\n",
    "                    {'kernel': ['linear'], 'C': [1, 10, 100, 1000]},\n",
    "                    {'kernel': ['poly'], 'degree': [5, 10, 15], 'C': [1, 10, 100, 1000]},\n",
    "                    {'kernel': ['sigmoid'], 'coef0': [0, 1, 2], 'C': [1, 10, 100, 1000]}]\n",
    "\n",
    "scores = ['precision', 'recall']\n",
    "\n",
    "for score in scores:\n",
    "    print(\"# Tuning hyper-parameters for %s\" % score)\n",
    "    print()\n",
    "\n",
    "    clf = GridSearchCV(SVC(), tuned_parameters, cv=5, scoring='%s_macro' % score).fit(X_train, y_train)\n",
    "\n",
    "    print(\"Best parameters set found on train set:\")\n",
    "    print()\n",
    "    print(clf.best_params_)\n",
    "    print()\n",
    "    print(\"Grid scores on train set:\")\n",
    "    print()\n",
    "    means = clf.cv_results_['mean_test_score']\n",
    "    stds = clf.cv_results_['std_test_score']\n",
    "    for mean, std, params in zip(means, stds, clf.cv_results_['params']):\n",
    "        print(\"%0.3f (+/-%0.03f) for %r\"\n",
    "              % (mean, std * 2, params))\n",
    "    print()\n",
    "\n",
    "    print(\"Detailed classification report:\")\n",
    "    print()\n",
    "    print(\"The scores are computed on test set.\")\n",
    "    print()\n",
    "    print(classification_report(y_test, clf.predict(X_test)))\n",
    "    print()"
   ]
  },
  {
   "cell_type": "markdown",
   "metadata": {},
   "source": [
    "## <font color='green'> Classification of Web Documents Using Naive Bayes\n",
    "* https://scikit-learn.org/stable/tutorial/text_analytics/working_with_text_data.html"
   ]
  },
  {
   "cell_type": "markdown",
   "metadata": {},
   "source": [
    "#### <font color='green'> i) Import raw data (texts and their categories)\n",
    "* 20 news group data : \n",
    "    - http://qwone.com/~jason/20Newsgroups/\n",
    "    - https://scikit-learn.org/stable/modules/generated/sklearn.datasets.fetch_20newsgroups.html#sklearn.datasets.fetch_20newsgroups"
   ]
  },
  {
   "cell_type": "code",
   "execution_count": null,
   "metadata": {},
   "outputs": [],
   "source": [
    "from sklearn.datasets import fetch_20newsgroups\n",
    "# fetch_20newsgroups is a function !\n",
    "\n",
    "categories = [\n",
    "        'alt.atheism',\n",
    "        'talk.religion.misc',\n",
    "        'comp.graphics',\n",
    "        'sci.space'] # the entire data contains 20 categories but we'll be using only those categories\n",
    "\n",
    "remove = ('headers', 'footers', 'quotes') # remove non-main text\n",
    "\n",
    "data_train = fetch_20newsgroups(subset='train', categories=categories, remove=remove, shuffle=True, random_state=42)\n",
    "data_test = fetch_20newsgroups(subset='test', categories=categories, remove=remove, shuffle=True, random_state=42)\n",
    "\n",
    "# extract Y and X from the datasets\n",
    "Y_train = data_train.target \n",
    "Y_test = data_test.target\n",
    "\n",
    "X_train = data_train.data \n",
    "X_test = data_test.data"
   ]
  },
  {
   "cell_type": "code",
   "execution_count": null,
   "metadata": {},
   "outputs": [],
   "source": [
    "# check how each category is indexed\n",
    "data_train.target_names"
   ]
  },
  {
   "cell_type": "code",
   "execution_count": null,
   "metadata": {},
   "outputs": [],
   "source": [
    "print(X_train[0]) # text\n",
    "print(Y_train) # integers (0-3)"
   ]
  },
  {
   "cell_type": "markdown",
   "metadata": {},
   "source": [
    "#### <font color='green'> ii) Covert texts (bags of words) to numerical vectors\n",
    "* TfidfVectorizer \n",
    "    - https://scikit-learn.org/stable/modules/generated/sklearn.feature_extraction.text.TfidfVectorizer.html#sklearn.feature_extraction.text.TfidfVectorizer\n",
    "    \n",
    "* Alternatively,\n",
    "    - CountVectorizer: https://scikit-learn.org/stable/modules/generated/sklearn.feature_extraction.text.CountVectorizer.html#sklearn.feature_extraction.text.CountVectorizer\n",
    "    - HashingVectorizer: https://scikit-learn.org/stable/modules/generated/sklearn.feature_extraction.text.HashingVectorizer.html#sklearn.feature_extraction.text.HashingVectorizer\n",
    "    \n",
    "* Stop words: https://scikit-learn.org/stable/modules/feature_extraction.html#stop-words"
   ]
  },
  {
   "cell_type": "code",
   "execution_count": null,
   "metadata": {},
   "outputs": [],
   "source": [
    "from sklearn.feature_extraction.text import TfidfVectorizer \n",
    "\n",
    "Vectorizer=TfidfVectorizer(stop_words='english')\n",
    "\n",
    "X_train = Vectorizer.fit_transform(X_train) \n",
    "X_test = Vectorizer.transform(X_test) \n",
    "\n",
    "# !!!Caution: Use \".fit_transform()\" for training data, but use \".transform()\" for testing data\n",
    "# This is to make sure the training and test sets have the same number of columns (features) \n",
    "# Here we are using the vectorizer trained for the training data to convert the testing data\n",
    "\n",
    "# check the size of X_train\n",
    "print(X_train.shape)\n",
    "print(X_test.shape)"
   ]
  },
  {
   "cell_type": "code",
   "execution_count": null,
   "metadata": {},
   "outputs": [],
   "source": [
    "print(X_train[0,:])"
   ]
  },
  {
   "cell_type": "markdown",
   "metadata": {},
   "source": [
    "#### <font color='green'> iii) Run NB\n",
    "* https://scikit-learn.org/stable/modules/naive_bayes.html\n",
    "* https://scikit-learn.org/stable/modules/generated/sklearn.naive_bayes.MultinomialNB.html#sklearn.naive_bayes.MultinomialNB"
   ]
  },
  {
   "cell_type": "code",
   "execution_count": null,
   "metadata": {},
   "outputs": [],
   "source": [
    "from sklearn.naive_bayes import MultinomialNB as NB\n",
    "from sklearn.metrics import classification_report\n",
    "\n",
    "NBres= NB(alpha=.01).fit(X_train, Y_train) # alpha is a kind of a shrinkage parameter\n",
    "\n",
    "print(NBres.score(X_test, Y_test))\n",
    "print(classification_report(Y_test, NBres.predict(X_test)))"
   ]
  },
  {
   "cell_type": "code",
   "execution_count": null,
   "metadata": {},
   "outputs": [],
   "source": [
    "# Run SVC on the same data\n",
    "from sklearn.svm import SVC\n",
    "SVCres= SVC(kernel = 'linear', C = 10).fit(X_train, Y_train)\n",
    "\n",
    "print(SVCres.score(X_test, Y_test))\n",
    "print(classification_report(Y_test, SVCres.predict(X_test)))"
   ]
  },
  {
   "cell_type": "markdown",
   "metadata": {},
   "source": [
    "### <font color='darkred'> HW7: Similarly to HW6-2, optimize SVC and NB on the newsgroups data\n",
    "\n",
    "* Select ten categories and import raw data under your categories. Follow the steps above to prepare datasets to run SVC and NB\n",
    "* Use the function \"GridSearchCV\" to optimize SVC and NB\n",
    "    - To optimize SVC, select a kernel function and tune \"C\" parameter\n",
    "    - To optimize NB, tune \"alpha\" parameter\n",
    "* Use both \"precision\" and \"recall\" to evaluate prediction performance"
   ]
  }
 ],
 "metadata": {
  "kernelspec": {
   "display_name": "Python 3",
   "language": "python",
   "name": "python3"
  },
  "language_info": {
   "codemirror_mode": {
    "name": "ipython",
    "version": 3
   },
   "file_extension": ".py",
   "mimetype": "text/x-python",
   "name": "python",
   "nbconvert_exporter": "python",
   "pygments_lexer": "ipython3",
   "version": "3.8.2"
  }
 },
 "nbformat": 4,
 "nbformat_minor": 2
}
