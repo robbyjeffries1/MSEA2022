{
 "cells": [
  {
   "cell_type": "code",
   "execution_count": null,
   "metadata": {},
   "outputs": [],
   "source": [
    "import os\n",
    "os.chdir('/Users/hj020/Desktop/2022/EconomicAnalytics-master/Python_/Data')"
   ]
  },
  {
   "cell_type": "code",
   "execution_count": null,
   "metadata": {},
   "outputs": [],
   "source": [
    "import numpy as np \n",
    "import pandas as pd\n",
    "import math"
   ]
  },
  {
   "cell_type": "code",
   "execution_count": null,
   "metadata": {},
   "outputs": [],
   "source": [
    "raw0 = pd.read_csv('College.csv')"
   ]
  },
  {
   "cell_type": "code",
   "execution_count": null,
   "metadata": {},
   "outputs": [],
   "source": [
    "raw0.head()"
   ]
  },
  {
   "cell_type": "code",
   "execution_count": null,
   "metadata": {},
   "outputs": [],
   "source": [
    "# Convert \"private\" variable to a dummy using a built-in function\n",
    "raw0['Private']=pd.get_dummies(raw0['Private'],drop_first=True)"
   ]
  },
  {
   "cell_type": "code",
   "execution_count": null,
   "metadata": {},
   "outputs": [],
   "source": [
    "raw0.Private"
   ]
  },
  {
   "cell_type": "code",
   "execution_count": null,
   "metadata": {},
   "outputs": [],
   "source": [
    "# Change the column name perc.alumni\n",
    "raw0.rename(columns = {'perc.alumni':'palumni'}, inplace = True)"
   ]
  },
  {
   "cell_type": "code",
   "execution_count": null,
   "metadata": {},
   "outputs": [],
   "source": [
    "raw0.head()"
   ]
  },
  {
   "cell_type": "markdown",
   "metadata": {},
   "source": [
    "### <font color='green'> Plotting Library: matplotlib.pyplot\n",
    "\n",
    "* matplotlib.pyplot is a collection of functions that make matplotlib work like MATLAB. Each pyplot function makes some change to a figure: e.g., creates a figure, creates a plotting area in a figure, plots some lines in a plotting area, decorates the plot with labels, etc.\n",
    "    \n",
    "    1. Introduction: https://matplotlib.org/tutorials/index.html\n",
    "\n",
    "    2. Useful examples and codes: https://matplotlib.org/gallery/index.html\n",
    "    \n",
    "    3. Style reference: https://matplotlib.org/3.2.1/gallery/style_sheets/style_sheets_reference.html"
   ]
  },
  {
   "cell_type": "code",
   "execution_count": null,
   "metadata": {},
   "outputs": [],
   "source": [
    "# Simple scatter plot\n",
    "import matplotlib.pyplot as plt\n",
    "\n",
    "plt.style.use('ggplot')\n",
    "plt.figure(figsize=(8, 6), dpi=100)\n",
    "plt.scatter('Top10perc', 'palumni', data=raw0)\n",
    "plt.xlabel('Top10perc')\n",
    "plt.ylabel('palumni')\n",
    "plt.show()"
   ]
  },
  {
   "cell_type": "markdown",
   "metadata": {},
   "source": [
    "### <font color='green'> Running OLS usig \"statsmodels\"\n",
    "\n",
    "* statsmodels.formula.api: a interface for specifying models using formula strings and DataFrames. \n",
    "  (API reference: https://www.statsmodels.org/stable/api.html) \n",
    "\n",
    "* Useful examples and codes: https://www.statsmodels.org/stable/examples/index.html"
   ]
  },
  {
   "cell_type": "code",
   "execution_count": null,
   "metadata": {},
   "outputs": [],
   "source": [
    "# Import statsmodels.formula.api\n",
    "import statsmodels.formula.api as smf\n",
    "\n",
    "# Fit a regression model\n",
    "OLSres = smf.ols('palumni ~ Top10perc + Outstate', data=raw0).fit()"
   ]
  },
  {
   "cell_type": "code",
   "execution_count": null,
   "metadata": {},
   "outputs": [],
   "source": [
    "# A summary of the result\n",
    "print(OLSres.summary())"
   ]
  },
  {
   "cell_type": "code",
   "execution_count": null,
   "metadata": {},
   "outputs": [],
   "source": [
    "# interaction and higer order terms\n",
    "OLSres = smf.ols('palumni ~ np.power(Top10perc,2) + Top10perc*Outstate', data=raw0).fit()\n",
    "print(OLSres.summary())"
   ]
  },
  {
   "cell_type": "code",
   "execution_count": null,
   "metadata": {},
   "outputs": [],
   "source": [
    "# Scatterplot fitted(predicted) values (palumni ~ Top10perc)\n",
    "\n",
    "plt.scatter(raw0['Top10perc'], OLSres.predict(), alpha=1, label='predicted') # fitted\n",
    "plt.scatter(raw0['Top10perc'], raw0['palumni'], alpha=0.5, label='observed') # original\n",
    "\n",
    "plt.legend()\n",
    "plt.title('OLS predicted values')\n",
    "plt.xlabel('Top10perc')\n",
    "plt.ylabel('palumni')\n",
    "plt.show()"
   ]
  },
  {
   "cell_type": "code",
   "execution_count": null,
   "metadata": {},
   "outputs": [],
   "source": [
    "# Access individual estimate: \n",
    "# https://www.statsmodels.org/stable/generated/statsmodels.regression.linear_model.OLSResults.html#statsmodels.regression.linear_model.OLSResults\n",
    "\n",
    "OLSres.params # parameter estimates"
   ]
  },
  {
   "cell_type": "markdown",
   "metadata": {},
   "source": [
    "### <font color='green'> Making a table for multiple regressions using \"statsmodels.iolib.summary2\""
   ]
  },
  {
   "cell_type": "code",
   "execution_count": null,
   "metadata": {},
   "outputs": [],
   "source": [
    "OLS1 = smf.ols('palumni ~ Top10perc', data=raw0).fit()\n",
    "OLS2 = smf.ols('palumni ~ Top10perc + Private + Outstate', data=raw0).fit()\n",
    "OLS3 = smf.ols('palumni ~ Top10perc + Private + Outstate + Personal + Expend', data=raw0).fit()"
   ]
  },
  {
   "cell_type": "code",
   "execution_count": null,
   "metadata": {},
   "outputs": [],
   "source": [
    "from statsmodels.iolib.summary2 import summary_col\n",
    "\n",
    "info_dict={'BIC' : lambda x: f\"{x.bic:.2f}\",\n",
    "    'No. observations' : lambda x: f\"{int(x.nobs):d}\"}\n",
    "\n",
    "# dictionary is another way to store data, which use \"keys\" to index elements (instead of numbers): key-value pair\n",
    "\n",
    "results_table = summary_col(results=[OLS1,OLS2,OLS3],\n",
    "                            float_format='%0.2f',\n",
    "                            stars = True,\n",
    "                            model_names=['Model 1',\n",
    "                                         'Model 2',\n",
    "                                         'Model 3'],\n",
    "                            info_dict=info_dict,\n",
    "                            regressor_order=['Intercept',\n",
    "                                             'Top10perc',\n",
    "                                             'Private',\n",
    "                                             'Outstate',\n",
    "                                             'Personal',\n",
    "                                             'Expend'])\n",
    "\n",
    "results_table.add_title('OLS Regressions')\n",
    "\n",
    "print(results_table)"
   ]
  },
  {
   "cell_type": "markdown",
   "metadata": {},
   "source": [
    "### <font color='darkred'> HW2: Pick five combinations of the regressors to explain the percent of alumni. The regressors may include interactions of two variables in the dataset or squared/cubed variables. \n",
    "    \n",
    "1. Run five regressions with each combination\n",
    "2. Produce a table summarizing the results of your five regressions as above\n",
    "    \n",
    "### One of you will present your regression results in the coming python session. Please check/interpret your regression results carefully"
   ]
  }
 ],
 "metadata": {
  "kernelspec": {
   "display_name": "Python 3",
   "language": "python",
   "name": "python3"
  },
  "language_info": {
   "codemirror_mode": {
    "name": "ipython",
    "version": 3
   },
   "file_extension": ".py",
   "mimetype": "text/x-python",
   "name": "python",
   "nbconvert_exporter": "python",
   "pygments_lexer": "ipython3",
   "version": "3.8.2"
  }
 },
 "nbformat": 4,
 "nbformat_minor": 2
}
