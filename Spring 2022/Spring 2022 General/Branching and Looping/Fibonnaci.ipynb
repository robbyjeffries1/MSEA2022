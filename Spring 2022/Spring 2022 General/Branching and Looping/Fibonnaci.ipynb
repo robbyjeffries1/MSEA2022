{
 "cells": [
  {
   "cell_type": "markdown",
   "metadata": {},
   "source": [
    "<font color ='blue' size = '3'>**Example of a for loop - the Fibonacci sequence**<br ><br/>\n",
    "The Fibonacci sequence is the set of numbers that starts with a one or a zerozero and one and proceeds based on the rule\n",
    "that each number (called a Fibonacci number) in the sequence is equal to the sum of the preceding two numbers:\n",
    ">    *0*, *1*, *1* (0+1), *2* (1+1), *3* (2+1), *5* (3+2), *8* (5 + 3), etc.\n"
   ]
  },
  {
   "cell_type": "markdown",
   "metadata": {},
   "source": [
    "<font color = 'blue' size = '3'>This program asks the user for a number (N) and then calculates the Fibonacci sequence up to the n-th element of the sequence"
   ]
  },
  {
   "cell_type": "code",
   "execution_count": 1,
   "metadata": {},
   "outputs": [
    {
     "name": "stdout",
     "output_type": "stream",
     "text": [
      "Please enter N: 6\n"
     ]
    }
   ],
   "source": [
    "# Ask the user to choose a number for constructing the Fibonacci sequence\n",
    "# and store it in a variable called N\n",
    "\n",
    "N = int(input(\"Please enter N and hit enter: \"))"
   ]
  },
  {
   "cell_type": "code",
   "execution_count": 2,
   "metadata": {},
   "outputs": [],
   "source": [
    "# Run an if-condition to check that the user supplied number makes sense -\n",
    "# the Fibonacci sequence is only for non-positive numbers\n",
    "\n",
    "if N <= 0:\n",
    "    N = int(input(\"Please enter a positivenumber: \"))"
   ]
  },
  {
   "cell_type": "code",
   "execution_count": 3,
   "metadata": {},
   "outputs": [],
   "source": [
    "# Create the first three terms of the Fibonacci sequence and create a list to which elements can be added\n",
    "\n",
    "# Define the first three elements of the Fibonacci sequence\n",
    "\n",
    "F0 = 0\n",
    "F1 = F2 = 1\n",
    "\n",
    "# Define a list for storing the sequence\n",
    "\n",
    "Fibonacci = [F0,F1, F2]"
   ]
  },
  {
   "cell_type": "code",
   "execution_count": 4,
   "metadata": {},
   "outputs": [],
   "source": [
    "# Use a for loop to calculate successive erms of the Fibonacci sequence, starting from element 3\n",
    "# Each new element is simply the sum of two previous elements\n",
    "# Then we add each new term to the list that we have already created in the previous step\n",
    "\n",
    "for i in range(3, N + 1):\n",
    "    Fibonacci_i = Fibonacci[i-1] + Fibonacci[i-2]\n",
    "    Fibonacci.append(Fibonacci_i) #Here we calculate all we need"
   ]
  },
  {
   "cell_type": "code",
   "execution_count": 5,
   "metadata": {},
   "outputs": [
    {
     "name": "stdout",
     "output_type": "stream",
     "text": [
      "Element 1 of the Fibonacci sequence is: 1\n",
      "Element 2 of the Fibonacci sequence is: 1\n",
      "Element 3 of the Fibonacci sequence is: 2\n",
      "Element 4 of the Fibonacci sequence is: 3\n",
      "Element 5 of the Fibonacci sequence is: 5\n",
      "Element 6 of the Fibonacci sequence is: 8\n"
     ]
    }
   ],
   "source": [
    "# Print the results\n",
    "  # Run another loop to go through every element of the Fibonacci listan d print the element number along with its value\n",
    "  # To combine text and numbers in a print statement, the data type of the numbers is changed to string\n",
    "\n",
    "for j in range(1, N + 1):\n",
    "    print (\"Element \" + str(j) + \" of the Fibonacci sequence is: \" + str(Fibonacci[j]))"
   ]
  },
  {
   "cell_type": "markdown",
   "metadata": {},
   "source": [
    "<font color = 'blue' size = '3'>**A Quicker Way to Do the Above**<br /><br />\n",
    "The above can be done in a more compact (but less transparent) fashion:<br />\n",
    ">def Fibonacci(n):<br />\n",
    "    &emsp; Fib = [1,1]<br />\n",
    "    &emsp; for i in range(1,n+1):<br />\n",
    "    &emsp; &emsp; Fib.append(Fib[-2] + Fib[-1])<br />\n",
    "    &emsp; return Fib"
   ]
  }
 ],
 "metadata": {
  "kernelspec": {
   "display_name": "Python 3",
   "language": "python",
   "name": "python3"
  },
  "language_info": {
   "codemirror_mode": {
    "name": "ipython",
    "version": 3
   },
   "file_extension": ".py",
   "mimetype": "text/x-python",
   "name": "python",
   "nbconvert_exporter": "python",
   "pygments_lexer": "ipython3",
   "version": "3.8.5"
  }
 },
 "nbformat": 4,
 "nbformat_minor": 5
}
